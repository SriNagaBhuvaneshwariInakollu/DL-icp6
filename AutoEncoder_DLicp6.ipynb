{
  "nbformat": 4,
  "nbformat_minor": 0,
  "metadata": {
    "colab": {
      "name": "AutoEncoder_DLicp6.ipynb",
      "provenance": []
    },
    "kernelspec": {
      "name": "python3",
      "display_name": "Python 3"
    }
  },
  "cells": [
    {
      "cell_type": "code",
      "metadata": {
        "id": "lNNWGzDooAot",
        "colab_type": "code",
        "outputId": "c1ff0a66-b07b-4c2b-ab7a-3604818f3096",
        "colab": {
          "base_uri": "https://localhost:8080/",
          "height": 34
        }
      },
      "source": [
        "from keras.layers import Input, Dense\n",
        "from keras.models import Model"
      ],
      "execution_count": 1,
      "outputs": [
        {
          "output_type": "stream",
          "text": [
            "Using TensorFlow backend.\n"
          ],
          "name": "stderr"
        }
      ]
    },
    {
      "cell_type": "code",
      "metadata": {
        "id": "wLc0ws8ZoL0x",
        "colab_type": "code",
        "colab": {}
      },
      "source": [
        "# this is the size of our encoded representations\n",
        "encoding_dim = 32  # 32 floats -> compression of factor 24.5, assuming the input is 784 floats"
      ],
      "execution_count": 0,
      "outputs": []
    },
    {
      "cell_type": "code",
      "metadata": {
        "id": "_sHwX_mcoOlI",
        "colab_type": "code",
        "colab": {}
      },
      "source": [
        "# this is our input placeholder\n",
        "input_img = Input(shape=(784,))\n",
        "# \"encoded\" is the encoded representation of the input\n",
        "encoded = Dense(encoding_dim, activation='relu')(input_img)\n",
        "# \"decoded\" is the lossy reconstruction of the input\n",
        "decoded = Dense(784, activation='sigmoid')(encoded)\n",
        "# this model maps an input to its reconstruction\n",
        "autoencoder = Model(input_img, decoded)\n",
        "# this model maps an input to its encoded representation\n",
        "autoencoder.compile(optimizer='adadelta', loss='binary_crossentropy')"
      ],
      "execution_count": 0,
      "outputs": []
    },
    {
      "cell_type": "code",
      "metadata": {
        "id": "7VRQIc2aoQ09",
        "colab_type": "code",
        "colab": {}
      },
      "source": [
        "from keras.datasets import mnist, fashion_mnist\n",
        "import numpy as np"
      ],
      "execution_count": 0,
      "outputs": []
    },
    {
      "cell_type": "code",
      "metadata": {
        "id": "6GKHLBodoShq",
        "colab_type": "code",
        "outputId": "1c4a698a-b925-40ac-fc0f-c3a5e42a5c74",
        "colab": {
          "base_uri": "https://localhost:8080/",
          "height": 158
        }
      },
      "source": [
        "(x_train, y_train), (x_test, y_test) = fashion_mnist.load_data()\n",
        "x_train = x_train.astype('float32') / 255.\n",
        "x_test = x_test.astype('float32') / 255.\n",
        "x_train = x_train.reshape((len(x_train), np.prod(x_train.shape[1:])))\n",
        "x_test = x_test.reshape((len(x_test), np.prod(x_test.shape[1:])))"
      ],
      "execution_count": 5,
      "outputs": [
        {
          "output_type": "stream",
          "text": [
            "Downloading data from http://fashion-mnist.s3-website.eu-central-1.amazonaws.com/train-labels-idx1-ubyte.gz\n",
            "32768/29515 [=================================] - 0s 3us/step\n",
            "Downloading data from http://fashion-mnist.s3-website.eu-central-1.amazonaws.com/train-images-idx3-ubyte.gz\n",
            "26427392/26421880 [==============================] - 2s 0us/step\n",
            "Downloading data from http://fashion-mnist.s3-website.eu-central-1.amazonaws.com/t10k-labels-idx1-ubyte.gz\n",
            "8192/5148 [===============================================] - 0s 0us/step\n",
            "Downloading data from http://fashion-mnist.s3-website.eu-central-1.amazonaws.com/t10k-images-idx3-ubyte.gz\n",
            "4423680/4422102 [==============================] - 1s 0us/step\n"
          ],
          "name": "stdout"
        }
      ]
    },
    {
      "cell_type": "code",
      "metadata": {
        "id": "PhNYyxTvoUUW",
        "colab_type": "code",
        "outputId": "bb1eedb8-6d50-4478-a1c3-3b6ae6bb52fa",
        "colab": {
          "base_uri": "https://localhost:8080/",
          "height": 230
        }
      },
      "source": [
        "autoencoder.fit(x_train, x_train,\n",
        "                epochs=5,\n",
        "                batch_size=256,\n",
        "                shuffle=True,\n",
        "                validation_data=(x_test, x_test))"
      ],
      "execution_count": 6,
      "outputs": [
        {
          "output_type": "stream",
          "text": [
            "Train on 60000 samples, validate on 10000 samples\n",
            "Epoch 1/5\n",
            "60000/60000 [==============================] - 3s 47us/step - loss: 0.5369 - val_loss: 0.4651\n",
            "Epoch 2/5\n",
            "60000/60000 [==============================] - 2s 41us/step - loss: 0.4262 - val_loss: 0.4045\n",
            "Epoch 3/5\n",
            "60000/60000 [==============================] - 2s 38us/step - loss: 0.3927 - val_loss: 0.3843\n",
            "Epoch 4/5\n",
            "60000/60000 [==============================] - 2s 38us/step - loss: 0.3743 - val_loss: 0.3681\n",
            "Epoch 5/5\n",
            "60000/60000 [==============================] - 2s 39us/step - loss: 0.3599 - val_loss: 0.3558\n"
          ],
          "name": "stdout"
        },
        {
          "output_type": "execute_result",
          "data": {
            "text/plain": [
              "<keras.callbacks.callbacks.History at 0x7fb75ae2ff98>"
            ]
          },
          "metadata": {
            "tags": []
          },
          "execution_count": 6
        }
      ]
    },
    {
      "cell_type": "markdown",
      "metadata": {
        "id": "-5NneItzoz0K",
        "colab_type": "text"
      },
      "source": [
        "1. Add one more hidden layer to autoencoder"
      ]
    },
    {
      "cell_type": "code",
      "metadata": {
        "id": "6sYADz4XoXPS",
        "colab_type": "code",
        "colab": {}
      },
      "source": [
        "# this is the size of our encoded representations\n",
        "encoding_dim = 32  # 32 floats -> compression of factor 24.5, assuming the input is 784 floats\n",
        "\n",
        "# this is our input placeholder\n",
        "input_img = Input(shape=(784,))\n",
        "# \"encoded\" is the encoded representation of the input\n",
        "encoded = Dense(encoding_dim, activation='relu')(input_img)\n",
        "#addining a hidden layer\n",
        "hiddenLayer=Dense(512,activation='relu')(encoded)\n",
        "# \"decoded\" is the lossy reconstruction of the input\n",
        "decoded = Dense(784, activation='sigmoid')(hiddenLayer)\n",
        "# this model maps an input to its reconstruction\n",
        "autoencoder1 = Model(input_img, decoded)\n",
        "# this model maps an input to its encoded representation\n",
        "autoencoder1.compile(optimizer='adadelta', loss='binary_crossentropy',metrics=['accuracy'])\n",
        "from keras.datasets import fashion_mnist\n",
        "import numpy as np\n",
        "(x_train, _), (x_test, _) = fashion_mnist.load_data()\n",
        "x_train = x_train.astype('float32') / 255.\n",
        "x_test = x_test.astype('float32') / 255.\n",
        "x_train = x_train.reshape((len(x_train), np.prod(x_train.shape[1:])))\n",
        "x_test = x_test.reshape((len(x_test), np.prod(x_test.shape[1:])))"
      ],
      "execution_count": 0,
      "outputs": []
    },
    {
      "cell_type": "code",
      "metadata": {
        "id": "lqTcnLlqppzF",
        "colab_type": "code",
        "outputId": "be817568-df3b-4df1-87f2-2763058ae69b",
        "colab": {
          "base_uri": "https://localhost:8080/",
          "height": 230
        }
      },
      "source": [
        "autoencoder1.fit(x_train, x_train,\n",
        "                epochs=5,\n",
        "                batch_size=256,\n",
        "                shuffle=True,\n",
        "                validation_data=(x_test, x_test))"
      ],
      "execution_count": 8,
      "outputs": [
        {
          "output_type": "stream",
          "text": [
            "Train on 60000 samples, validate on 10000 samples\n",
            "Epoch 1/5\n",
            "60000/60000 [==============================] - 7s 110us/step - loss: 0.4975 - accuracy: 0.4607 - val_loss: 0.4104 - val_accuracy: 0.4875\n",
            "Epoch 2/5\n",
            "60000/60000 [==============================] - 6s 108us/step - loss: 0.3908 - accuracy: 0.4914 - val_loss: 0.3777 - val_accuracy: 0.4926\n",
            "Epoch 3/5\n",
            "60000/60000 [==============================] - 7s 108us/step - loss: 0.3631 - accuracy: 0.4963 - val_loss: 0.3535 - val_accuracy: 0.4956\n",
            "Epoch 4/5\n",
            "60000/60000 [==============================] - 6s 108us/step - loss: 0.3435 - accuracy: 0.4999 - val_loss: 0.3413 - val_accuracy: 0.5008\n",
            "Epoch 5/5\n",
            "60000/60000 [==============================] - 7s 109us/step - loss: 0.3333 - accuracy: 0.5017 - val_loss: 0.3319 - val_accuracy: 0.4983\n"
          ],
          "name": "stdout"
        },
        {
          "output_type": "execute_result",
          "data": {
            "text/plain": [
              "<keras.callbacks.callbacks.History at 0x7fb7538e01d0>"
            ]
          },
          "metadata": {
            "tags": []
          },
          "execution_count": 8
        }
      ]
    },
    {
      "cell_type": "markdown",
      "metadata": {
        "id": "14qSwIwfqo4I",
        "colab_type": "text"
      },
      "source": [
        "2. visualize the input and reconstructed representationof the autoencoder using Matplotlib\n"
      ]
    },
    {
      "cell_type": "code",
      "metadata": {
        "id": "nOLUBAOrqquN",
        "colab_type": "code",
        "colab": {}
      },
      "source": [
        "prediction = autoencoder1.predict(x_test[[2],:])\n",
        "#prediction"
      ],
      "execution_count": 0,
      "outputs": []
    },
    {
      "cell_type": "code",
      "metadata": {
        "id": "pOSs8Pgfq7Hy",
        "colab_type": "code",
        "outputId": "d6a1cecf-b5a5-4acf-c3db-5bfdad21d711",
        "colab": {
          "base_uri": "https://localhost:8080/",
          "height": 264
        }
      },
      "source": [
        "from matplotlib import pyplot as plt\n",
        "plt.imshow(x_test[2].reshape(28,28))\n",
        "plt.show()"
      ],
      "execution_count": 10,
      "outputs": [
        {
          "output_type": "display_data",
          "data": {
            "image/png": "[encoded data removed]",
            "text/plain": [
              "<Figure size 432x288 with 1 Axes>"
            ]
          },
          "metadata": {
            "tags": [],
            "needs_background": "light"
          }
        }
      ]
    },
    {
      "cell_type": "code",
      "metadata": {
        "id": "4bRQ2EiCrBbp",
        "colab_type": "code",
        "outputId": "fe656579-05d9-4735-ad9e-b902e5cc91b0",
        "colab": {
          "base_uri": "https://localhost:8080/",
          "height": 264
        }
      },
      "source": [
        "from matplotlib import pyplot as plt\n",
        "plt.imshow(prediction[0].reshape(28,28))\n",
        "plt.show()"
      ],
      "execution_count": 11,
      "outputs": [
        {
          "output_type": "display_data",
          "data": {
            "image/png": "[encoded data removed]",
            "text/plain": [
              "<Figure size 432x288 with 1 Axes>"
            ]
          },
          "metadata": {
            "tags": [],
            "needs_background": "light"
          }
        }
      ]
    },
    {
      "cell_type": "markdown",
      "metadata": {
        "id": "U_tTxSPMrGVs",
        "colab_type": "text"
      },
      "source": [
        "3. visualize the input, noisy input and reconstructed representation(denosed output)of the Denosing_Autoencoder using Matplotlib\n"
      ]
    },
    {
      "cell_type": "code",
      "metadata": {
        "id": "f67o4xVRrR0I",
        "colab_type": "code",
        "colab": {}
      },
      "source": [
        "#Adding Noies\n",
        "noise_factor = 0.5\n",
        "x_train_noisy = x_train + noise_factor * np.random.normal(loc=0.0, scale=1.0, size=x_train.shape)\n",
        "x_test_noisy = x_test + noise_factor * np.random.normal(loc=0.0, scale=1.0, size=x_test.shape)\n"
      ],
      "execution_count": 0,
      "outputs": []
    },
    {
      "cell_type": "code",
      "metadata": {
        "id": "RXemgtzfrXWx",
        "colab_type": "code",
        "outputId": "4ee8f844-0324-4ddc-ed6b-9c73b1b381a8",
        "colab": {
          "base_uri": "https://localhost:8080/",
          "height": 390
        }
      },
      "source": [
        "history=autoencoder1.fit(x_train_noisy, x_train,\n",
        "                epochs=10,\n",
        "                batch_size=256,\n",
        "                shuffle=True,\n",
        "                validation_data=(x_test_noisy, x_test_noisy))"
      ],
      "execution_count": 13,
      "outputs": [
        {
          "output_type": "stream",
          "text": [
            "Train on 60000 samples, validate on 10000 samples\n",
            "Epoch 1/10\n",
            "60000/60000 [==============================] - 7s 111us/step - loss: 0.3358 - accuracy: 0.5013 - val_loss: 0.3185 - val_accuracy: 0.0000e+00\n",
            "Epoch 2/10\n",
            "60000/60000 [==============================] - 7s 111us/step - loss: 0.3311 - accuracy: 0.5020 - val_loss: 0.3155 - val_accuracy: 0.0000e+00\n",
            "Epoch 3/10\n",
            "60000/60000 [==============================] - 7s 111us/step - loss: 0.3279 - accuracy: 0.5025 - val_loss: 0.3113 - val_accuracy: 0.0000e+00\n",
            "Epoch 4/10\n",
            "60000/60000 [==============================] - 7s 109us/step - loss: 0.3253 - accuracy: 0.5028 - val_loss: 0.3071 - val_accuracy: 0.0000e+00\n",
            "Epoch 5/10\n",
            "60000/60000 [==============================] - 7s 109us/step - loss: 0.3230 - accuracy: 0.5032 - val_loss: 0.3070 - val_accuracy: 0.0000e+00\n",
            "Epoch 6/10\n",
            "60000/60000 [==============================] - 7s 109us/step - loss: 0.3213 - accuracy: 0.5034 - val_loss: 0.3035 - val_accuracy: 0.0000e+00\n",
            "Epoch 7/10\n",
            "60000/60000 [==============================] - 7s 111us/step - loss: 0.3200 - accuracy: 0.5036 - val_loss: 0.3056 - val_accuracy: 0.0000e+00\n",
            "Epoch 8/10\n",
            "60000/60000 [==============================] - 7s 111us/step - loss: 0.3186 - accuracy: 0.5038 - val_loss: 0.3007 - val_accuracy: 0.0000e+00\n",
            "Epoch 9/10\n",
            "60000/60000 [==============================] - 7s 110us/step - loss: 0.3176 - accuracy: 0.5040 - val_loss: 0.2980 - val_accuracy: 0.0000e+00\n",
            "Epoch 10/10\n",
            "60000/60000 [==============================] - 7s 110us/step - loss: 0.3164 - accuracy: 0.5042 - val_loss: 0.2986 - val_accuracy: 0.0000e+00\n"
          ],
          "name": "stdout"
        }
      ]
    },
    {
      "cell_type": "code",
      "metadata": {
        "id": "hePmlHNnrt7F",
        "colab_type": "code",
        "outputId": "fb133a14-dc88-4ad5-9f54-af81b15ed3ae",
        "colab": {
          "base_uri": "https://localhost:8080/",
          "height": 264
        }
      },
      "source": [
        "from matplotlib import pyplot as plt\n",
        "plt.imshow(x_train_noisy[2].reshape(28,28))\n",
        "plt.show()"
      ],
      "execution_count": 14,
      "outputs": [
        {
          "output_type": "display_data",
          "data": {
            "image/png": "[encoded data removed]",
            "text/plain": [
              "<Figure size 432x288 with 1 Axes>"
            ]
          },
          "metadata": {
            "tags": [],
            "needs_background": "light"
          }
        }
      ]
    },
    {
      "cell_type": "code",
      "metadata": {
        "id": "B0WFDiXorugJ",
        "colab_type": "code",
        "colab": {}
      },
      "source": [
        "prediction1 = autoencoder1.predict(x_train_noisy[[2],:])\n",
        "#prediction1[0]"
      ],
      "execution_count": 0,
      "outputs": []
    },
    {
      "cell_type": "code",
      "metadata": {
        "id": "59t38F5Cr0Se",
        "colab_type": "code",
        "outputId": "9423b28a-989e-49d9-cc00-9648dfaa6f24",
        "colab": {
          "base_uri": "https://localhost:8080/",
          "height": 264
        }
      },
      "source": [
        "from matplotlib import pyplot as plt\n",
        "plt.imshow(prediction1[0].reshape(28,28))\n",
        "plt.show()"
      ],
      "execution_count": 16,
      "outputs": [
        {
          "output_type": "display_data",
          "data": {
            "image/png": "[encoded data removed]",
            "text/plain": [
              "<Figure size 432x288 with 1 Axes>"
            ]
          },
          "metadata": {
            "tags": [],
            "needs_background": "light"
          }
        }
      ]
    },
    {
      "cell_type": "markdown",
      "metadata": {
        "id": "53vUZHLpr68z",
        "colab_type": "text"
      },
      "source": [
        "4. plot loss and accuracy using the history object"
      ]
    },
    {
      "cell_type": "code",
      "metadata": {
        "id": "hfQinTbkr6Pf",
        "colab_type": "code",
        "outputId": "cf6638f6-0cf3-4421-e780-c77b3f09e354",
        "colab": {
          "base_uri": "https://localhost:8080/",
          "height": 294
        }
      },
      "source": [
        "import matplotlib.pyplot as plt\n",
        "plt.plot(history.history['accuracy'])\n",
        "plt.plot(history.history['loss'])\n",
        "plt.title('model accuracy vs loss')\n",
        "plt.xlabel('epoch')\n",
        "plt.legend(['accuracy','loss'], loc='upper left')\n",
        "plt.show()"
      ],
      "execution_count": 18,
      "outputs": [
        {
          "output_type": "display_data",
          "data": {
            "image/png": "[encoded data removed]",
            "text/plain": [
              "<Figure size 432x288 with 1 Axes>"
            ]
          },
          "metadata": {
            "tags": [],
            "needs_background": "light"
          }
        }
      ]
    },
    {
      "cell_type": "markdown",
      "metadata": {
        "id": "YSNJfhAtu-gd",
        "colab_type": "text"
      },
      "source": [
        "train[0:]\n",
        "(6000,28,28,3)"
      ]
    }
  ]
}